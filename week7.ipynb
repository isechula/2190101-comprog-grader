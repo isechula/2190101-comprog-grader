{
 "cells": [
  {
   "cell_type": "code",
   "execution_count": null,
   "metadata": {},
   "outputs": [],
   "source": [
    "# 07_StrFile_Plural\n",
    "\n",
    "inp = input()\n",
    "if inp[-1] in ['s', 'x'] or inp[-2]+inp[-1] == 'ch':\n",
    "    inp = inp + 'es'\n",
    "elif inp[-1] == 'y' and inp[-2] not in ['a', 'e', 'i', 'o', 'u']:\n",
    "    inp = inp.replace(\"y\", \"\") + 'ies'\n",
    "else:\n",
    "    inp = inp + 's'\n",
    "print(inp)"
   ]
  },
  {
   "cell_type": "code",
   "execution_count": null,
   "metadata": {},
   "outputs": [],
   "source": [
    "# 07_StrFile_CamelCase\n",
    "text = ''\n",
    "for i in input().strip().title():\n",
    "    if i in \"\\\"\\'/\\\\(),.:;-_>\":\n",
    "        text +=' '\n",
    "    else:\n",
    "        text += i\n",
    "text = text.split()\n",
    "text[0]=text[0].lower()\n",
    "print(''.join(text))"
   ]
  },
  {
   "cell_type": "code",
   "execution_count": null,
   "metadata": {},
   "outputs": [],
   "source": [
    "# 07_StrFile_Rot13\n",
    "lines = []\n",
    "\n",
    "while True:\n",
    "    text = input()\n",
    "    if text == \"end\":\n",
    "        break\n",
    "    lines.append(text)\n",
    "\n",
    "for line in lines:\n",
    "    result = []\n",
    "    \n",
    "    for char in line:\n",
    "        if 'a' <= char <= 'z':\n",
    "            result.append(chr((ord(char) - ord('a') + 13) % 26 + ord('a')))\n",
    "        elif 'A' <= char <= 'Z':\n",
    "            result.append(chr((ord(char) - ord('A') + 13) % 26 + ord('A')))\n",
    "        else:\n",
    "            result.append(char)\n",
    "    \n",
    "    print(''.join(result))"
   ]
  },
  {
   "cell_type": "code",
   "execution_count": null,
   "metadata": {},
   "outputs": [],
   "source": [
    "# 07_StrFile_Anagram\n",
    "\n",
    "inp1 = sorted(x.lower() for x in input() if x != ' ')\n",
    "inp2 = sorted(x.lower() for x in input() if x != ' ')\n",
    "if inp2 == inp1: print(\"YES\")\n",
    "else: print(\"NO\")"
   ]
  },
  {
   "cell_type": "code",
   "execution_count": 68,
   "metadata": {},
   "outputs": [
    {
     "name": "stdout",
     "output_type": "stream",
     "text": [
      "60.0 90.0 75.0\n"
     ]
    }
   ],
   "source": [
    "# 07_StrFile_File_Min_Max_Average\n",
    "\n",
    "fileName, year = input().split()\n",
    "year = year[-2:]\n",
    "f = [eval(x.split()[1]) for x in open(fileName).read().splitlines() if x[:2] == year]\n",
    "if len(f) != 0: print(min(f), max(f), sum(f)/len(f))\n",
    "else: print(\"No data\")"
   ]
  }
 ],
 "metadata": {
  "kernelspec": {
   "display_name": "Python 3",
   "language": "python",
   "name": "python3"
  },
  "language_info": {
   "codemirror_mode": {
    "name": "ipython",
    "version": 3
   },
   "file_extension": ".py",
   "mimetype": "text/x-python",
   "name": "python",
   "nbconvert_exporter": "python",
   "pygments_lexer": "ipython3",
   "version": "3.12.4"
  }
 },
 "nbformat": 4,
 "nbformat_minor": 2
}
