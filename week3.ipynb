{
 "cells": [
  {
   "cell_type": "code",
   "execution_count": null,
   "metadata": {},
   "outputs": [],
   "source": [
    "# 03_​If_​01\n",
    "\n",
    "code = [\"01\", \"02\", \"20\", \"21\", \"22\", \"23\", \"24\", \"25\", \"26\", \"27\", \"28\", \"29\", \"30\", \"31\", \"32\", \"33\", \"34\", \"35\", \"36\", \"37\", \"38\", \"39\", \"40\", \"51\", \"53\", \"55\", \"58\"]\n",
    "\n",
    "inp = input()\n",
    "\n",
    "if inp in code:\n",
    "    print(\"OK\")\n",
    "else:\n",
    "    print(\"Error\")"
   ]
  },
  {
   "cell_type": "code",
   "execution_count": null,
   "metadata": {},
   "outputs": [],
   "source": [
    "# 03_If_02\n",
    "\n",
    "s = float(input())\n",
    "\n",
    "if s >= 80:\n",
    "    print(\"A\")\n",
    "elif s >= 70:\n",
    "    print(\"B\")\n",
    "elif s >= 60:\n",
    "    print(\"C\")\n",
    "elif s >= 50:\n",
    "    print(\"D\")\n",
    "else:\n",
    "    print(\"F\")"
   ]
  },
  {
   "cell_type": "code",
   "execution_count": null,
   "metadata": {},
   "outputs": [],
   "source": [
    "# 03_If_03\n",
    "\n",
    "x, y = sorted([eval(x) for x in input().split()])[1:3]\n",
    "\n",
    "print(round((x+y)/2, 2))"
   ]
  },
  {
   "cell_type": "code",
   "execution_count": null,
   "metadata": {},
   "outputs": [],
   "source": [
    "# 03_If_04\n",
    "\n",
    "x, y = list(map(str, input()))[0:2]\n",
    "\n",
    "if x == \"0\" and y in [\"6\", \"8\", \"9\"]:\n",
    "    print(\"Mobile number\")\n",
    "else:\n",
    "    print(\"Not a mobile number\")\n"
   ]
  },
  {
   "cell_type": "code",
   "execution_count": null,
   "metadata": {},
   "outputs": [],
   "source": [
    "# 03_If_05\n",
    "\n",
    "inp = input()\n",
    "\n",
    "typu = \"\"\n",
    "typd = \"\"\n",
    "\n",
    "if int(inp) == 0:\n",
    "    typu = \"zero\"\n",
    "    typd =\"even\"\n",
    "else:\n",
    "    if inp[0] == \"-\":\n",
    "        typu = \"negative\"\n",
    "    else:\n",
    "        typu = \"positive\"\n",
    "    \n",
    "    if int(inp)%2 == 0:\n",
    "        typd = \"even\"\n",
    "    else:\n",
    "        typd = \"odd\"\n",
    "\n",
    "print(typu)\n",
    "print(typd)"
   ]
  },
  {
   "cell_type": "code",
   "execution_count": null,
   "metadata": {},
   "outputs": [],
   "source": [
    "# 03_If_06\n",
    "\n",
    "inp = int(input())\n",
    "\n",
    "if inp < 100:\n",
    "    print(18)\n",
    "elif 250 > inp >= 100:\n",
    "    print(22)\n",
    "elif 500 > inp >= 250:\n",
    "    print(28)\n",
    "elif 1000 > inp >= 500:\n",
    "    print(38)\n",
    "elif 2000 > inp >= 1000:\n",
    "    print(58)\n",
    "else:\n",
    "    print(\"Reject\")"
   ]
  },
  {
   "cell_type": "code",
   "execution_count": null,
   "metadata": {},
   "outputs": [],
   "source": [
    "# 03_If_07\n",
    "\n",
    "inp = int(input())\n",
    "\n",
    "if inp < 1000:\n",
    "    print(inp)\n",
    "elif 10000 > inp >= 1000:\n",
    "    print(str(format(inp/1000, \".1f\"))+\"K\")\n",
    "elif 1000000 > inp >= 10000:\n",
    "    print(str(round(inp/1000))+\"K\") \n",
    "elif 10000000 > inp >= 1000000:\n",
    "    print(str(format(inp/1000000, \".1f\"))+\"M\")\n",
    "elif 100000000 > inp >= 10000000:\n",
    "    print(str(format(inp/10000000, \".1f\"))+\"B\")"
   ]
  },
  {
   "cell_type": "code",
   "execution_count": null,
   "metadata": {},
   "outputs": [],
   "source": [
    "# 03_If_08\n",
    "\n",
    "from datetime import datetime\n",
    "\n",
    "d,m,y = eval('int(input()),'*3)\n",
    "\n",
    "print(datetime(y-543, m, d).timetuple().tm_yday)\n"
   ]
  }
 ],
 "metadata": {
  "kernelspec": {
   "display_name": "Python 3",
   "language": "python",
   "name": "python3"
  },
  "language_info": {
   "codemirror_mode": {
    "name": "ipython",
    "version": 3
   },
   "file_extension": ".py",
   "mimetype": "text/x-python",
   "name": "python",
   "nbconvert_exporter": "python",
   "pygments_lexer": "ipython3",
   "version": "3.12.4"
  }
 },
 "nbformat": 4,
 "nbformat_minor": 2
}
