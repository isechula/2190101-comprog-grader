{
 "cells": [
  {
   "cell_type": "code",
   "execution_count": 17,
   "metadata": {},
   "outputs": [
    {
     "name": "stdout",
     "output_type": "stream",
     "text": [
      "1 1007 02345 12 9\n"
     ]
    }
   ],
   "source": [
    "# 02_​StrList_​01\n",
    "\n",
    "inp = input()\n",
    "# ['1',2,3,4,5]\n",
    "\n",
    "formula = (11-(sum([(13-i)*int(inp[i]) for i in range(12)])%11))%10\n",
    "\n",
    "print(inp[0], inp[1:5], inp[5:10], inp[-2:], formula)"
   ]
  },
  {
   "cell_type": "code",
   "execution_count": 19,
   "metadata": {},
   "outputs": [
    {
     "name": "stdout",
     "output_type": "stream",
     "text": [
      "1 --> one\n"
     ]
    }
   ],
   "source": [
    "# 02_​StrList_​02\n",
    "\n",
    "n = input()\n",
    "mid = \"-->\"\n",
    "suf = ['zero', 'one', 'two', 'three', 'four', 'five', 'six', 'seven', 'eight', 'nine']\n",
    "\n",
    "print(n, mid, suf[int(n)])"
   ]
  },
  {
   "cell_type": "code",
   "execution_count": 2,
   "metadata": {},
   "outputs": [
    {
     "name": "stdout",
     "output_type": "stream",
     "text": [
      "January 12, 2020\n"
     ]
    }
   ],
   "source": [
    "# 02_​StrList_​03\n",
    "\n",
    "d, m, y = input().split('/')\n",
    "ml = ['January', 'February', 'March', 'April', 'May', 'June', 'July', 'August', 'September', 'October', 'November', 'December']\n",
    "\n",
    "print(ml[int(m)-1], str(d)+\",\", y)"
   ]
  },
  {
   "cell_type": "code",
   "execution_count": 8,
   "metadata": {},
   "outputs": [
    {
     "name": "stdout",
     "output_type": "stream",
     "text": [
      "00123\n"
     ]
    }
   ],
   "source": [
    "# 02_StrList_04\n",
    "\n",
    "n = [eval(i) for i in input()]\n",
    "i = int(input())\n",
    "\n",
    "if len(n) < i:\n",
    "    il = i - len(n)\n",
    "    for x in range(il):\n",
    "        n.insert(x, 0)\n",
    "    print(*n, sep='')\n",
    "else:\n",
    "    print(*n, sep='')"
   ]
  },
  {
   "cell_type": "code",
   "execution_count": 16,
   "metadata": {},
   "outputs": [
    {
     "name": "stdout",
     "output_type": "stream",
     "text": [
      "['129', '190', '172', '157', '158', '188', '170']\n",
      "1164\n"
     ]
    }
   ],
   "source": [
    "# 02_StrList_05\n",
    "\n",
    "inp = input().split()\n",
    "print(sum([int(i) for i in inp]))\n"
   ]
  },
  {
   "cell_type": "code",
   "execution_count": 29,
   "metadata": {},
   "outputs": [
    {
     "name": "stdout",
     "output_type": "stream",
     "text": [
      "[1.0, 2.0, 3.0] + [2.0, 3.0, 4.0] = [3.0, 5.0, 7.0]\n"
     ]
    }
   ],
   "source": [
    "# 02_StrList_06\n",
    "\n",
    "u = [float(i) for i in (input().strip('[]')).split(',')]\n",
    "v = [float(i) for i in (input().strip('[]')).split(',')]\n",
    "\n",
    "print(u, '+', v, '=', [x+y for x, y in zip(u, v)])"
   ]
  }
 ],
 "metadata": {
  "kernelspec": {
   "display_name": "Python 3",
   "language": "python",
   "name": "python3"
  },
  "language_info": {
   "codemirror_mode": {
    "name": "ipython",
    "version": 3
   },
   "file_extension": ".py",
   "mimetype": "text/x-python",
   "name": "python",
   "nbconvert_exporter": "python",
   "pygments_lexer": "ipython3",
   "version": "3.12.4"
  }
 },
 "nbformat": 4,
 "nbformat_minor": 2
}
