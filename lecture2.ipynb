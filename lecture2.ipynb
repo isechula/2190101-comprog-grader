{
 "cells": [
  {
   "cell_type": "markdown",
   "metadata": {},
   "source": [
    "### Concatination"
   ]
  },
  {
   "cell_type": "code",
   "execution_count": 2,
   "metadata": {},
   "outputs": [
    {
     "name": "stdout",
     "output_type": "stream",
     "text": [
      "[1, 2, 3, 'a', 'python', 7.5]\n",
      "<class 'list'>\n",
      "6\n"
     ]
    }
   ],
   "source": [
    "x = [1, 2, 3]\n",
    "y = ['a', 'python', 7.5]\n",
    "\n",
    "z = x + y\n",
    "print(z)\n",
    "print(type(z))\n",
    "print(len(z))"
   ]
  },
  {
   "cell_type": "markdown",
   "metadata": {},
   "source": [
    "### Index"
   ]
  },
  {
   "cell_type": "code",
   "execution_count": 9,
   "metadata": {},
   "outputs": [
    {
     "name": "stdout",
     "output_type": "stream",
     "text": [
      "H\n",
      "e\n",
      "l\n",
      "d\n",
      "Hello\n",
      "Hlo\n",
      "HloWrd\n",
      "dlro\n"
     ]
    }
   ],
   "source": [
    "s = 'Hello World'\n",
    "print(s[0]) # positive index\n",
    "print(s[1])\n",
    "print(s[2])\n",
    "\n",
    "print(s[-1]) # negative index\n",
    "\n",
    "print(s[0:5])\n",
    "\n",
    "print(s[0:5:2])\n",
    "\n",
    "print(s[0:len(s):2])\n",
    "\n",
    "print(s[-1:-5:-1])"
   ]
  },
  {
   "cell_type": "markdown",
   "metadata": {},
   "source": [
    "### Slicing Abbreviation"
   ]
  },
  {
   "cell_type": "code",
   "execution_count": 23,
   "metadata": {},
   "outputs": [
    {
     "name": "stdout",
     "output_type": "stream",
     "text": [
      "[5, 12, 3]\n"
     ]
    }
   ],
   "source": [
    "x = [1, 2, 3]\n",
    "x[0] = 5\n",
    "x[1] += 10\n",
    "\n",
    "print(x)"
   ]
  },
  {
   "cell_type": "code",
   "execution_count": 24,
   "metadata": {},
   "outputs": [
    {
     "name": "stdout",
     "output_type": "stream",
     "text": [
      "Yello\n"
     ]
    }
   ],
   "source": [
    "s = 'Hello'\n",
    "# s[0] = 'Y' cannot modify string (mutable variable)\n",
    "\n",
    "t = 'Y' + s[1:]\n",
    "print(t)"
   ]
  },
  {
   "cell_type": "markdown",
   "metadata": {},
   "source": [
    "### Repetition (*)"
   ]
  },
  {
   "cell_type": "code",
   "execution_count": 29,
   "metadata": {},
   "outputs": [
    {
     "name": "stdout",
     "output_type": "stream",
     "text": [
      "[1, 2, 3, 1, 2, 3, 1, 2, 3]\n",
      "HelloHelloHello\n"
     ]
    }
   ],
   "source": [
    "x = [1, 2, 3]\n",
    "y = 'Hello'\n",
    "\n",
    "print(x * 3)\n",
    "print(y * 3)"
   ]
  },
  {
   "cell_type": "markdown",
   "metadata": {},
   "source": [
    "### Split"
   ]
  },
  {
   "cell_type": "code",
   "execution_count": 41,
   "metadata": {},
   "outputs": [
    {
     "name": "stdout",
     "output_type": "stream",
     "text": [
      "['I', 'love', 'python']\n"
     ]
    }
   ],
   "source": [
    "s = 'I love python'\n",
    "x = s.split()\n",
    "\n",
    "print(x)  # ['I', 'love', 'python']"
   ]
  },
  {
   "cell_type": "code",
   "execution_count": 44,
   "metadata": {},
   "outputs": [
    {
     "name": "stdout",
     "output_type": "stream",
     "text": [
      "['Python', '', '', '', '', '', 'Java', 'C']\n"
     ]
    }
   ],
   "source": [
    "a = 'Python,,,,,,Java,C'\n",
    "\n",
    "print(a.split(','))"
   ]
  },
  {
   "cell_type": "markdown",
   "metadata": {},
   "source": [
    "### String"
   ]
  },
  {
   "cell_type": "code",
   "execution_count": 48,
   "metadata": {},
   "outputs": [
    {
     "name": "stdout",
     "output_type": "stream",
     "text": [
      "Hello\n",
      " HELLO  \n",
      " hello  \n"
     ]
    }
   ],
   "source": [
    "s = ' Hello  '\n",
    "\n",
    "print(s.strip())  # Output: 'Hello'\n",
    "print(s.upper())\n",
    "print(s.lower())"
   ]
  },
  {
   "cell_type": "markdown",
   "metadata": {},
   "source": [
    "# Practice"
   ]
  },
  {
   "cell_type": "code",
   "execution_count": 21,
   "metadata": {},
   "outputs": [
    {
     "name": "stdout",
     "output_type": "stream",
     "text": [
      "1 1007 02345 12 9\n"
     ]
    }
   ],
   "source": [
    "# 1\n",
    "s = input()\n",
    "\n",
    "summ = 0\n",
    "for i in range(12):\n",
    "    summ += (13 - i) * int(s[i])\n",
    "\n",
    "s = s + str((11 - summ % 11) % 10)\n",
    "\n",
    "print(f'{s[0]} {s[1:5]} {s[5:10]} {s[10:12]} {s[12]}')"
   ]
  },
  {
   "cell_type": "code",
   "execution_count": 25,
   "metadata": {},
   "outputs": [
    {
     "name": "stdout",
     "output_type": "stream",
     "text": [
      "5 --> five\n"
     ]
    }
   ],
   "source": [
    "# 2\n",
    "mapping = [\n",
    "    'zero',\n",
    "    'one',\n",
    "    'two',\n",
    "    'three',\n",
    "    'four',\n",
    "    'five',\n",
    "    'six',\n",
    "    'seven',\n",
    "    'eight',\n",
    "    'nine',\n",
    "]\n",
    "\n",
    "inp = int(input())\n",
    "print(f'{inp} --> {mapping[inp]}')"
   ]
  },
  {
   "cell_type": "code",
   "execution_count": 31,
   "metadata": {},
   "outputs": [
    {
     "name": "stdout",
     "output_type": "stream",
     "text": [
      "December 31, 2020 \n"
     ]
    }
   ],
   "source": [
    "# 3\n",
    "monthMapping = [\n",
    "    'January',\n",
    "    'February',\n",
    "    'March',\n",
    "    'April',\n",
    "    'May',\n",
    "    'June',\n",
    "    'July',\n",
    "    'August',\n",
    "    'September',\n",
    "    'October',\n",
    "    'November',\n",
    "    'December',\n",
    "]\n",
    "\n",
    "inp = input().split('/')\n",
    "\n",
    "print(f'{monthMapping[int(inp[1]) - 1]} {inp[0]}, {inp[2]}')"
   ]
  },
  {
   "cell_type": "code",
   "execution_count": 37,
   "metadata": {},
   "outputs": [
    {
     "name": "stdout",
     "output_type": "stream",
     "text": [
      "123\n"
     ]
    }
   ],
   "source": [
    "# 4\n",
    "m = int(input())\n",
    "n = int(input())\n",
    "\n",
    "lenm = len(str(m))\n",
    "\n",
    "if lenm < n:\n",
    "    print(f'{\"0\" * (n - lenm)}{m}')\n",
    "else:\n",
    "    print(m)"
   ]
  },
  {
   "cell_type": "code",
   "execution_count": 40,
   "metadata": {},
   "outputs": [
    {
     "name": "stdout",
     "output_type": "stream",
     "text": [
      "00123\n"
     ]
    }
   ],
   "source": [
    "# 4 / 2 (Nooby)\n",
    "m = input()\n",
    "n = int(input())\n",
    "\n",
    "lm = list(m)\n",
    "\n",
    "while len(lm) < n:\n",
    "    lm.insert(0, '0')\n",
    "\n",
    "print(''.join(lm))"
   ]
  },
  {
   "cell_type": "code",
   "execution_count": 42,
   "metadata": {},
   "outputs": [
    {
     "name": "stdout",
     "output_type": "stream",
     "text": [
      "280\n"
     ]
    }
   ],
   "source": [
    "# 5\n",
    "inp = input().split()\n",
    "inp = map(lambda x: int(x), inp)\n",
    "inp = list(inp)\n",
    "\n",
    "print(sum(inp))"
   ]
  },
  {
   "cell_type": "code",
   "execution_count": 46,
   "metadata": {},
   "outputs": [
    {
     "name": "stdout",
     "output_type": "stream",
     "text": [
      "[1.0, 2.0, 3.0] + [1.0, 2.0, 3.0] = [2.0, 4.0, 6.0]\n"
     ]
    }
   ],
   "source": [
    "# 6\n",
    "u = input()\n",
    "v = input()\n",
    "\n",
    "uValue = u[1:-1].split(', ')\n",
    "vValue = v[1:-1].split(', ')\n",
    "\n",
    "print(f'{[float(i) for i in uValue]} + {[float(i) for i in vValue]} = {[float(uValue[i]) + float(vValue[i]) for i in range(3)]}')"
   ]
  },
  {
   "cell_type": "code",
   "execution_count": 69,
   "metadata": {},
   "outputs": [
    {
     "name": "stdout",
     "output_type": "stream",
     "text": [
      "999H\n"
     ]
    }
   ],
   "source": [
    "# 7\n",
    "mapping = 'ABCDEFGHIJ'\n",
    "\n",
    "inp = input()\n",
    "\n",
    "u = int(inp[3::7])\n",
    "v = int(inp[7::5])\n",
    "\n",
    "summ = u + v + 1e4\n",
    "\n",
    "summ = str(int(summ))\n",
    "temp = summ\n",
    "summ = int(summ[-4]) + int(summ[-3]) + int(summ[-2])\n",
    "\n",
    "print(f'{temp[-4:-1]}{mapping[summ % 10]}')"
   ]
  },
  {
   "cell_type": "code",
   "execution_count": 89,
   "metadata": {},
   "outputs": [
    {
     "name": "stdout",
     "output_type": "stream",
     "text": [
      "53597759022775822002664770833191474 / 11111111111111111111111111111111111\n"
     ]
    }
   ],
   "source": [
    "# 8\n",
    "import math\n",
    "\n",
    "inp = input().split(',')\n",
    "\n",
    "a = int(inp[0] + inp[1] + inp[2]) - int(inp[0] + inp[1])\n",
    "b = int(f'{\"9\" * len(inp[2])}{\"0\" * len(inp[1])}')\n",
    "\n",
    "gcd = math.gcd(a, b)\n",
    "\n",
    "print(f'{a//gcd} / {b//gcd}')"
   ]
  },
  {
   "cell_type": "code",
   "execution_count": null,
   "metadata": {},
   "outputs": [],
   "source": []
  }
 ],
 "metadata": {
  "kernelspec": {
   "display_name": "tanny",
   "language": "python",
   "name": "python3"
  },
  "language_info": {
   "codemirror_mode": {
    "name": "ipython",
    "version": 3
   },
   "file_extension": ".py",
   "mimetype": "text/x-python",
   "name": "python",
   "nbconvert_exporter": "python",
   "pygments_lexer": "ipython3",
   "version": "3.9.15"
  }
 },
 "nbformat": 4,
 "nbformat_minor": 2
}
