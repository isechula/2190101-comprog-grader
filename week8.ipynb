{
 "cells": [
  {
   "cell_type": "code",
   "execution_count": null,
   "metadata": {},
   "outputs": [],
   "source": [
    "# 08_Dict_\n",
    "\n",
    "def reverse(d):\n",
    "    k = list(d)\n",
    "    f = {}\n",
    "    for i in k:\n",
    "        f[d[i]] = i\n",
    "    return f\n",
    "\n",
    "def keys(d, v):\n",
    "    return [x for x in d if d[x] == v]"
   ]
  },
  {
   "cell_type": "code",
   "execution_count": null,
   "metadata": {},
   "outputs": [],
   "source": [
    "# 08_Dict\n",
    "\n",
    "finp = []\n",
    "for i in range(int(input())):\n",
    "    finp.append(input().split())\n",
    "sinp = []\n",
    "for i in range(int(input())):\n",
    "    sinp.append(input())\n",
    "for i in range(len(sinp)):\n",
    "    print([x for x in finp if x[0] == sinp[i]][0][1])"
   ]
  },
  {
   "cell_type": "code",
   "execution_count": null,
   "metadata": {},
   "outputs": [],
   "source": [
    "# 08_Dict\n",
    "\n",
    "inp = input().lower()\n",
    "f = {}\n",
    "for i in inp:\n",
    "    if i not in f.keys():\n",
    "        f[i] = 1\n",
    "    else:\n",
    "        f[i] += 1\n",
    "f = {k: v for k, v in sorted(f.items(), key=lambda item: item[1], reverse=True)}\n",
    "for i in f.keys():\n",
    "    print(i, '->', f[i])"
   ]
  },
  {
   "cell_type": "code",
   "execution_count": null,
   "metadata": {},
   "outputs": [],
   "source": [
    "# 08_Dict\n",
    "\n",
    "finp = {}\n",
    "for i in range(int(input())):\n",
    "    k, v = input().split()\n",
    "    finp[k] = int(v)\n",
    "sinp = {}\n",
    "for i in range(int(input())):\n",
    "    k, v = input().split()\n",
    "    sinp[k] = int(v)\n",
    "tt = 0\n",
    "ts = {}\n",
    "for i in sinp.keys():\n",
    "    if i in finp.keys():\n",
    "        tt += (sinp[i]*finp[i])\n",
    "        ts[i] = sinp[i]*finp[i]\n",
    "print(f'Total ice cream sales: {tt}')\n",
    "print(f'Top sales: {''.join([k for k, v in sorted(ts.items(), key=lambda item: item[1], reverse=True)])}')"
   ]
  },
  {
   "cell_type": "code",
   "execution_count": null,
   "metadata": {},
   "outputs": [],
   "source": [
    "# 08_Dict\n",
    "\n",
    "info = {}\n",
    "for i in range(int(input())):\n",
    "    fn, ln, v = input().split()\n",
    "    info[fn+' '+ln] = v\n",
    "sinp = []\n",
    "for i in range(int(input())):\n",
    "    sinp.append(input())\n",
    "for i in sinp:\n",
    "    if i in info.keys():\n",
    "        print(i, '-->', info[i])\n",
    "    elif i in info.values():\n",
    "        print(i, '-->', list(info.keys())[list(info.values()).index(i)])\n",
    "    else:\n",
    "        print(i, '--> Not found')"
   ]
  },
  {
   "cell_type": "code",
   "execution_count": null,
   "metadata": {},
   "outputs": [],
   "source": [
    "# 08_Dict\n",
    "\n",
    "info = {\n",
    "    '2': ['a', 'b', 'c'],\n",
    "    '3': ['d', 'e', 'f'],\n",
    "    '4': ['g', 'h', 'i'],\n",
    "    '5': ['j', 'k', 'l'],\n",
    "    '6': ['m', 'n', 'o'],\n",
    "    '7': ['p', 'q', 'r', 's'],\n",
    "    '8': ['t', 'u', 'v'],\n",
    "    '9': ['w', 'x', 'y', 'z'],\n",
    "    '0': [' ']\n",
    "}\n",
    "def text2keys(text):\n",
    "    text = [x for x in text.lower() if x not in \"\\\"\\'/\\\\(),.:;-_>\"]\n",
    "    f = []\n",
    "    for i in text:\n",
    "        n = [y for y in [x for x in info.values()] if i in y][0].index(i) + 1\n",
    "        k = [k for k, v in info.items() if i in v][0]\n",
    "        f.append(str(k)*n)\n",
    "    return ' '.join(f)\n",
    "\n",
    "text2keys(\"WTF\")\n",
    "def keys2text(keys):\n",
    "    keys = keys.split()\n",
    "    return ''.join([info[x[0]][len(x)-1] for x in keys])"
   ]
  }
 ],
 "metadata": {
  "kernelspec": {
   "display_name": "Python 3",
   "language": "python",
   "name": "python3"
  },
  "language_info": {
   "codemirror_mode": {
    "name": "ipython",
    "version": 3
   },
   "file_extension": ".py",
   "mimetype": "text/x-python",
   "name": "python",
   "nbconvert_exporter": "python",
   "pygments_lexer": "ipython3",
   "version": "3.12.4"
  }
 },
 "nbformat": 4,
 "nbformat_minor": 2
}
