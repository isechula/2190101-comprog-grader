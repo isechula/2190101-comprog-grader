{
 "cells": [
  {
   "cell_type": "markdown",
   "id": "c61d9fd0dec5bf86",
   "metadata": {
    "collapsed": false
   },
   "source": [
    "<h3>​Stirling ​Factorial (★)</h3>\n",
    "\n",
    "[Instructions](https://2190101.nattee.net/problems/834/get_statement/01_Expr_01.pdf)\n",
    "\n",
    "Solutions:"
   ]
  },
  {
   "cell_type": "code",
   "execution_count": null,
   "id": "467b2d72232c1fb6",
   "metadata": {
    "ExecuteTime": {
     "end_time": "2024-08-12T19:07:39.832111800Z",
     "start_time": "2024-08-12T19:07:32.428039Z"
    },
    "collapsed": false
   },
   "outputs": [],
   "source": [
    "import math\n",
    "\n",
    "n = int(input())\n",
    "print(((2*math.pi)**(1/2))*(n**(n+(1/2)))*(math.e**(-n+(1/(12*n+1)))))\n",
    "print(((2*math.pi)**(1/2))*(n**(n+(1/2)))*(math.e**(-n+(1/(12*n)))))"
   ]
  },
  {
   "cell_type": "markdown",
   "id": "e5a2e74f52679302",
   "metadata": {
    "collapsed": false
   },
   "source": [
    "<h3>​Quadratic ​Root (★)</h3>\n",
    "\n",
    "[Instructions](https://2190101.nattee.net/problems/835/get_statement/01_Expr_02.pdf)\n",
    "\n",
    "Solutions:"
   ]
  },
  {
   "cell_type": "code",
   "execution_count": null,
   "id": "3ef92e9f43f781e0",
   "metadata": {
    "collapsed": false
   },
   "outputs": [],
   "source": [
    "a = float(input())\n",
    "b = float(input())\n",
    "c = float(input())\n",
    "print(round((-b-((b**2)-(4*a*c))**(1/2))/(2*a), 3), round((-b+((b**2)-(4*a*c))**(1/2))/(2*a), 3))"
   ]
  },
  {
   "cell_type": "markdown",
   "id": "9fcd74ae514fd5d6",
   "metadata": {
    "collapsed": false
   },
   "source": [
    "<h3>​An ​Expression (★★)</h3>\n",
    "\n",
    "[Instructions](https://2190101.nattee.net/problems/836/get_statement/01_Expr_03.pdf)\n",
    "\n",
    "Solutions:"
   ]
  },
  {
   "cell_type": "code",
   "execution_count": null,
   "id": "cb9481b42bad7b42",
   "metadata": {
    "collapsed": false
   },
   "outputs": [],
   "source": [
    "import math\n",
    "\n",
    "value = (math.pi-(math.factorial(10)/(8**8))+(math.log(9.7)**((7/(71**(1/2)))-math.sin(math.radians(40)))))/(1.2**(2.3**(1/3)))\n",
    "print(round(value, 6))"
   ]
  },
  {
   "cell_type": "markdown",
   "id": "3083a4f5f8754f8b",
   "metadata": {
    "collapsed": false
   },
   "source": [
    "<h3>​Body ​Surface ​Area (★★)</h3>\n",
    "\n",
    "[Instructions](https://2190101.nattee.net/problems/837/get_statement/01_Expr_04.pdf)\n",
    "\n",
    "Solutions:"
   ]
  },
  {
   "cell_type": "code",
   "execution_count": null,
   "id": "6c5f6a1cc4d67d30",
   "metadata": {
    "ExecuteTime": {
     "end_time": "2024-08-12T19:27:10.529163100Z",
     "start_time": "2024-08-12T19:26:57.772321800Z"
    },
    "collapsed": false
   },
   "outputs": [],
   "source": [
    "import math\n",
    "\n",
    "w = float(input())\n",
    "h = float(input())\n",
    "mosteller = ((w*h)**(1/2))/60\n",
    "haycock = 0.024265*(w**0.5378)*(h**0.3964)\n",
    "boyd = 0.0333*(w**(0.6157-(0.0188*math.log10(w))))*(h**0.3)\n",
    "print(f'{mosteller}\\n{haycock}\\n{boyd}')"
   ]
  },
  {
   "cell_type": "markdown",
   "id": "6f36872e3de62f02",
   "metadata": {
    "collapsed": false
   },
   "source": [
    "<h3>​Cubic ​Equation (★★)</h3>\n",
    "\n",
    "[Instructions](https://2190101.nattee.net/problems/838/get_statement/01_Expr_05.pdf)\n",
    "\n",
    "Solutions:"
   ]
  },
  {
   "cell_type": "code",
   "execution_count": null,
   "id": "24c7b77ebead1953",
   "metadata": {
    "collapsed": false
   },
   "outputs": [],
   "source": [
    "import math\n",
    "\n",
    "a, b, c, d = list(map(float, input().split()))\n",
    "\n",
    "sum_term = (2*(b**3) - 9*a*b*c + 27*(a**2)*d)\n",
    "inner_root = math.sqrt(sum_term**2 - (4*((b**2 - 3*a*c)**3)))\n",
    "inv_3a = 1/(3*a)\n",
    "\n",
    "answer = (-b/(3*a)) - inv_3a*(((sum_term + inner_root)/2)**(1/3)) - inv_3a*(((sum_term - inner_root)/2)**(1/3))\n",
    "\n",
    "print(round(answer,3))"
   ]
  },
  {
   "cell_type": "markdown",
   "id": "a5ffb634febcf966",
   "metadata": {
    "collapsed": false
   },
   "source": [
    "<h3>​Duration (★★★)</h3>\n",
    "\n",
    "[Instructions](https://2190101.nattee.net/problems/839/get_statement/01_Expr_06.pdf)\n",
    "\n",
    "Solutions:"
   ]
  },
  {
   "cell_type": "code",
   "execution_count": null,
   "id": "c56c736e8415a874",
   "metadata": {
    "ExecuteTime": {
     "end_time": "2024-08-12T20:49:15.120459600Z",
     "start_time": "2024-08-12T20:49:05.598174500Z"
    },
    "collapsed": false
   },
   "outputs": [],
   "source": [
    "def dcalc(start_time, end_time):\n",
    "    start_seconds = start_time[0] * 3600 + start_time[1] * 60 + start_time[2]\n",
    "    end_seconds = end_time[0] * 3600 + end_time[1] * 60 + end_time[2]\n",
    "    difference_seconds = abs(end_seconds - start_seconds)\n",
    "    diff_hours = difference_seconds // 3600\n",
    "    difference_seconds %= 3600\n",
    "    diff_minutes = difference_seconds // 60\n",
    "    diff_seconds = difference_seconds % 60\n",
    "    return [diff_hours, diff_minutes, diff_seconds]\n",
    "\n",
    "\n",
    "start = []\n",
    "end = []\n",
    "for i in range(3):\n",
    "    start.append(input())\n",
    "for i in range(3):\n",
    "    end.append(input())\n",
    "\n",
    "stl = []\n",
    "etl = []\n",
    "passed = False\n",
    "for s in start:\n",
    "    if not passed:\n",
    "        stl.append(s)\n",
    "        passed = True\n",
    "        continue\n",
    "    if int(s) > 9:\n",
    "        stl.append(s)\n",
    "    else:\n",
    "        stl.append('0' + s)\n",
    "for s in end:\n",
    "    if not passed:\n",
    "        etl.append(s)\n",
    "        passed = True\n",
    "        continue\n",
    "    if int(s) > 9:\n",
    "        etl.append(s)\n",
    "    else:\n",
    "        etl.append('0' + s)\n",
    "sti = int(''.join(stl))\n",
    "eti = int(''.join(etl))\n",
    "if sti < eti:\n",
    "    time = dcalc([int(s) for s in start], [int(s) for s in end])\n",
    "else:\n",
    "    not_time = dcalc([int(s) for s in end], [int(s) for s in start])\n",
    "    time = dcalc(not_time, [24,0,0])\n",
    "    \n",
    "\n",
    "if sti == eti:\n",
    "    print('0:0:0')\n",
    "else:\n",
    "    print(':'.join([str(s) for s in time]))"
   ]
  },
  {
   "cell_type": "code",
   "execution_count": null,
   "id": "a9753ead",
   "metadata": {},
   "outputs": [],
   "source": [
    "h1 = int(input())\n",
    "m1 = int(input())\n",
    "s1 = int(input())\n",
    "t1 = h1 * 3600 + m1 * 60 + s1\n",
    "\n",
    "h2 = int(input())\n",
    "m2 = int(input())\n",
    "s2 = int(input()) \n",
    "t2 = h2 * 3600 + m2 * 60 + s2\n",
    "\n",
    "dt = t2 - t1\n",
    "\n",
    "dh = (dt // 3600) % 24\n",
    "dm = (dt % 3600) // 60\n",
    "ds = dt % 60\n",
    "\n",
    "print(dh,dm,ds,sep=\":\")"
   ]
  },
  {
   "cell_type": "markdown",
   "id": "a43c8f2f43b21d1e",
   "metadata": {
    "collapsed": false
   },
   "source": [
    "<h3>​Hello (★)</h3>\n",
    "\n",
    "[Instructions](https://2190101.nattee.net/problems/1079/get_statement/00_Intro_01.pdf)\n",
    "\n",
    "Solutions:"
   ]
  },
  {
   "cell_type": "code",
   "execution_count": null,
   "id": "f57c4404b6cfc133",
   "metadata": {
    "collapsed": false
   },
   "outputs": [],
   "source": [
    "import sys \n",
    "\n",
    "sys.stdout.write(\"Hello Python. \\nWe're using Python 3.\")"
   ]
  },
  {
   "cell_type": "code",
   "execution_count": null,
   "id": "a18b8508",
   "metadata": {},
   "outputs": [],
   "source": [
    "print(\"Hello Python.\\nWe're using Python 3. \")"
   ]
  },
  {
   "cell_type": "markdown",
   "id": "12e8d76789b23b",
   "metadata": {
    "collapsed": false
   },
   "source": [
    "<h3>​Big ​Numbers (★)</h3>\n",
    "\n",
    "[Instructions](https://2190101.nattee.net/problems/1080/get_statement/00_Intro_02.pdf)\n",
    "\n",
    "Solutions:"
   ]
  },
  {
   "cell_type": "code",
   "execution_count": null,
   "id": "a25a3ce5d182f01f",
   "metadata": {
    "collapsed": false
   },
   "outputs": [],
   "source": [
    "print('''2938402734091273094162387451928736401926340971234 \n",
    "+\n",
    "9208209384928743098273495872039847509273497\n",
    "=\n",
    "''', 2938402734091273094162387451928736401926340971234 +\n",
    "9208209384928743098273495872039847509273497)"
   ]
  },
  {
   "cell_type": "code",
   "execution_count": null,
   "id": "5a148014",
   "metadata": {},
   "outputs": [],
   "source": [
    "a = 2938402734091273094162387451928736401926340971234\n",
    "b = 9208209384928743098273495872039847509273497\n",
    "\n",
    "print(a, \"+\", b, \"=\", a+b, sep=\"\\n\")"
   ]
  },
  {
   "cell_type": "markdown",
   "id": "400d2e933c16af3a",
   "metadata": {
    "collapsed": false
   },
   "source": [
    "<h3>​Mountain ​Valley (★)</h3>\n",
    "\n",
    "[Instructions](https://2190101.nattee.net/problems/1081/get_statement/00_Intro_03.pdf)\n",
    "\n",
    "Solutions:"
   ]
  },
  {
   "cell_type": "code",
   "execution_count": null,
   "id": "cf094493dd02e7cb",
   "metadata": {
    "collapsed": false
   },
   "outputs": [],
   "source": [
    "print(\n",
    "    \"\"\"\n",
    "+------------------------------------------+\n",
    "|................................/\\........|\n",
    "|.............................../##\\.......|\n",
    "|............................../####\\......|\n",
    "|............................./######\\.....|\n",
    "|............................/########\\....|\n",
    "|.......__................../##########\\...|\n",
    "|....../##\\................/############\\..|\n",
    "|./\\../####\\......../\\..../##############\\.|\n",
    "|/##\\/######\\....../##\\../################\\|\n",
    "|############\\..../####\\/##################|\n",
    "|#############\\__/#########################|\n",
    "+------------------------------------------+\n",
    "\"\"\"\n",
    ")"
   ]
  }
 ],
 "metadata": {
  "kernelspec": {
   "display_name": "Python 3",
   "language": "python",
   "name": "python3"
  },
  "language_info": {
   "codemirror_mode": {
    "name": "ipython",
    "version": 3
   },
   "file_extension": ".py",
   "mimetype": "text/x-python",
   "name": "python",
   "nbconvert_exporter": "python",
   "pygments_lexer": "ipython3",
   "version": "3.10.6"
  }
 },
 "nbformat": 4,
 "nbformat_minor": 5
}
